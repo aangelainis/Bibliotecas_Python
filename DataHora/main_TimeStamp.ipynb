{
 "cells": [
  {
   "cell_type": "code",
   "execution_count": null,
   "metadata": {},
   "outputs": [],
   "source": [
    "from datetime import datetime as dt"
   ]
  },
  {
   "cell_type": "markdown",
   "metadata": {},
   "source": [
    "---\n",
    "<h1 style=\"text-align:center;\"> <strong>Manipulando Data/hora<strong> </h1>"
   ]
  },
  {
   "cell_type": "code",
   "execution_count": 4,
   "metadata": {},
   "outputs": [
    {
     "name": "stdout",
     "output_type": "stream",
     "text": [
      "Ano:  2025\n",
      "Mês:  2\n",
      "Dia:  10\n",
      "Hora:  9\n",
      "Minuto:  30\n",
      "Segundo:  50\n",
      "Microsegundo:  780018\n"
     ]
    }
   ],
   "source": [
    "agora = dt.now()\n",
    "\n",
    "print(\"Ano: \", agora.year)\n",
    "print(\"Mês: \", agora.month)\n",
    "print(\"Dia: \", agora.day)\n",
    "print(\"Hora: \", agora.hour)\n",
    "print(\"Minuto: \", agora.minute)\n",
    "print(\"Segundo: \", agora.second)\n",
    "print(\"Microsegundo: \", agora.microsecond)"
   ]
  },
  {
   "cell_type": "code",
   "execution_count": 11,
   "metadata": {},
   "outputs": [
    {
     "name": "stdout",
     "output_type": "stream",
     "text": [
      "10/Feb/2025\n",
      "10-February-25\n"
     ]
    }
   ],
   "source": [
    "# Site com formatação de data/hora: https://www.programiz.com/python-programming/datetime/strftime\n",
    "personalizado = agora.strftime('%d/%b/%Y')\n",
    "print(personalizado)\n",
    "personalizado = agora.strftime('%d-%B-%y')\n",
    "print(personalizado)"
   ]
  },
  {
   "cell_type": "markdown",
   "metadata": {},
   "source": [
    "| Diretiva | Significado | Exemplo |\n",
    "|----------|-------------|---------|\n",
    "| **%a**   | Nome abreviado do dia da semana. | Sun, Mon, ... |\n",
    "| **%A**   | Nome completo do dia da semana. | Sunday, Monday, ... |\n",
    "| **%w**   | Dia da semana como número decimal. | 0, 1, ..., 6 |\n",
    "| **%d**   | Dia do mês como número decimal com zero à esquerda. | 01, 02, ..., 31 |\n",
    "| **%-d**  | Dia do mês como número decimal. | 1, 2, ..., 30 |\n",
    "| **%b**   | Nome abreviado do mês. | Jan, Feb, ..., Dec |\n",
    "| **%B**   | Nome completo do mês. | January, February, ... |\n",
    "| **%m**   | Mês como número decimal com zero à esquerda. | 01, 02, ..., 12 |\n",
    "| **%-m**  | Mês como número decimal. | 1, 2, ..., 12 |\n",
    "| **%y**   | Ano sem o século como número decimal com zero à esquerda. | 00, 01, ..., 99 |\n",
    "| **%-y**  | Ano sem o século como número decimal. | 0, 1, ..., 99 |\n",
    "| **%Y**   | Ano com o século como número decimal. | 2013, 2019, ... |\n",
    "| **%H**   | Hora (relógio de 24 horas) como número decimal com zero à esquerda. | 00, 01, ..., 23 |\n",
    "| **%-H**  | Hora (relógio de 24 horas) como número decimal. | 0, 1, ..., 23 |\n",
    "| **%I**   | Hora (relógio de 12 horas) como número decimal com zero à esquerda. | 01, 02, ..., 12 |\n",
    "| **%-I**  | Hora (relógio de 12 horas) como número decimal. | 1, 2, ..., 12 |\n",
    "| **%p**   | AM ou PM conforme o local. | AM, PM |\n",
    "| **%M**   | Minuto como número decimal com zero à esquerda. | 00, 01, ..., 59 |\n",
    "| **%-M**  | Minuto como número decimal. | 0, 1, ..., 59 |\n",
    "| **%S**   | Segundo como número decimal com zero à esquerda. | 00, 01, ..., 59 |\n",
    "| **%-S**  | Segundo como número decimal. | 0, 1, ..., 59 |\n",
    "| **%f**   | Microsegundo como número decimal, com zero à esquerda. | 000000 - 999999 |\n",
    "| **%z**   | Deslocamento UTC no formato +HHMM ou -HHMM. | |\n",
    "| **%Z**   | Nome do fuso horário. | |\n",
    "| **%j**   | Dia do ano como número decimal com zero à esquerda. | 001, 002, ..., 366 |\n",
    "| **%-j**  | Dia do ano como número decimal. | 1, 2, ..., 366 |\n",
    "| **%U**   | Número da semana do ano (domingo como o primeiro dia da semana). Todos os dias no ano novo antes do primeiro domingo são considerados como semana 0. | 00, 01, ..., 53 |\n",
    "| **%W**   | Número da semana do ano (segunda-feira como o primeiro dia da semana). Todos os dias no ano novo antes da primeira segunda-feira são considerados como semana 0. | 00, 01, ..., 53 |\n",
    "| **%c**   | Representação adequada de data e hora conforme o local. | Mon Sep 30 07:06:05 2013 |\n",
    "| **%x**   | Representação adequada de data conforme o local. | 09/30/13 |\n",
    "| **%X**   | Representação adequada de hora conforme o local. | 07:06:05 |\n",
    "| **%%**   | Caracter literal '%'. | % |\n"
   ]
  }
 ],
 "metadata": {
  "kernelspec": {
   "display_name": "Python 3",
   "language": "python",
   "name": "python3"
  },
  "language_info": {
   "codemirror_mode": {
    "name": "ipython",
    "version": 3
   },
   "file_extension": ".py",
   "mimetype": "text/x-python",
   "name": "python",
   "nbconvert_exporter": "python",
   "pygments_lexer": "ipython3",
   "version": "3.11.4"
  }
 },
 "nbformat": 4,
 "nbformat_minor": 2
}
