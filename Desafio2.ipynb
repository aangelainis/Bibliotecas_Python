{
 "cells": [
  {
   "cell_type": "markdown",
   "metadata": {},
   "source": [
    "---"
   ]
  },
  {
   "cell_type": "code",
   "execution_count": 7,
   "metadata": {},
   "outputs": [
    {
     "name": "stdout",
     "output_type": "stream",
     "text": [
      "   Manufacturer               Make  Price  MPG.city     Type  Passengers\n",
      "43      Hyundai      Hyundai Excel    8.0      29.0    Small         5.0\n",
      "22        Dodge         Dodge Colt    9.2      29.0    Small         5.0\n",
      "61   Mitsubishi  Mitsubishi Mirage   10.3      29.0    Small         5.0\n",
      "80       Subaru      Subaru Loyale   10.9      25.0    Small         5.0\n",
      "12    Chevrolet  Chevrolet Corsica   11.4      25.0  Compact         5.0\n"
     ]
    }
   ],
   "source": [
    "df = df.loc[:, [\"Manufacturer\", \"Make\", \"Price\", \"MPG.city\", \"Type\", \"Passengers\"]]\n",
    "print(df)"
   ]
  },
  {
   "cell_type": "code",
   "execution_count": 4,
   "metadata": {},
   "outputs": [
    {
     "name": "stdout",
     "output_type": "stream",
     "text": [
      "   Manufacturer    Model     Type  Min.Price  Price  Max.Price  MPG.city  \\\n",
      "43      Hyundai    Excel    Small        6.8    8.0        9.2      29.0   \n",
      "22        Dodge     Colt    Small        7.9    9.2       10.6      29.0   \n",
      "61   Mitsubishi   Mirage    Small        7.7   10.3       12.9      29.0   \n",
      "80       Subaru   Loyale    Small       10.5   10.9       11.3      25.0   \n",
      "12    Chevrolet  Corsica  Compact       11.4   11.4       11.4      25.0   \n",
      "\n",
      "    MPG.highway      AirBags DriveTrain  ... Passengers  Length  Wheelbase  \\\n",
      "43         33.0          NaN      Front  ...        5.0   168.0       94.0   \n",
      "22         33.0          NaN      Front  ...        5.0   174.0       98.0   \n",
      "61          NaN          NaN      Front  ...        5.0   172.0       98.0   \n",
      "80         30.0          NaN        4WD  ...        5.0   175.0       97.0   \n",
      "12         34.0  Driver only      Front  ...        5.0   184.0      103.0   \n",
      "\n",
      "    Width  Turn.circle Rear.seat.room  Luggage.room  Weight   Origin  \\\n",
      "43   63.0         35.0           26.0          11.0  2345.0  non-USA   \n",
      "22   66.0         32.0            NaN          11.0  2270.0      USA   \n",
      "61   67.0         36.0           26.0          11.0  2295.0  non-USA   \n",
      "80   65.0         35.0           27.5          15.0  2490.0  non-USA   \n",
      "12   68.0         39.0           26.0           NaN  2785.0      USA   \n",
      "\n",
      "                 Make  \n",
      "43      Hyundai Excel  \n",
      "22         Dodge Colt  \n",
      "61  Mitsubishi Mirage  \n",
      "80      Subaru Loyale  \n",
      "12  Chevrolet Corsica  \n",
      "\n",
      "[5 rows x 27 columns]\n"
     ]
    }
   ],
   "source": [
    "df = df.sort_values(by = \"Price\")\n",
    "df = df.head(5)\n",
    "print(df)"
   ]
  },
  {
   "cell_type": "code",
   "execution_count": 3,
   "metadata": {},
   "outputs": [
    {
     "name": "stdout",
     "output_type": "stream",
     "text": [
      "   Manufacturer    Model     Type  Min.Price  Price  Max.Price  MPG.city  \\\n",
      "28        Eagle   Summit    Small        7.9   12.2       16.5      29.0   \n",
      "63       Nissan   Sentra    Small        8.7   11.8       14.9      29.0   \n",
      "61   Mitsubishi   Mirage    Small        7.7   10.3       12.9      29.0   \n",
      "43      Hyundai    Excel    Small        6.8    8.0        9.2      29.0   \n",
      "22        Dodge     Colt    Small        7.9    9.2       10.6      29.0   \n",
      "53        Mazda  Protege    Small       10.9   11.6       12.3      28.0   \n",
      "54        Mazda      626  Compact       14.3   16.5       18.7      26.0   \n",
      "80       Subaru   Loyale    Small       10.5   10.9       11.3      25.0   \n",
      "0         Acura  Integra    Small       12.9   15.9       18.8      25.0   \n",
      "12    Chevrolet  Corsica  Compact       11.4   11.4       11.4      25.0   \n",
      "\n",
      "    MPG.highway      AirBags DriveTrain  ... Passengers  Length  Wheelbase  \\\n",
      "28         33.0          NaN      Front  ...        5.0   174.0       98.0   \n",
      "63         33.0  Driver only      Front  ...        5.0   170.0       96.0   \n",
      "61          NaN          NaN      Front  ...        5.0   172.0       98.0   \n",
      "43         33.0          NaN      Front  ...        5.0   168.0       94.0   \n",
      "22         33.0          NaN      Front  ...        5.0   174.0       98.0   \n",
      "53         36.0          NaN      Front  ...        5.0   172.0       98.0   \n",
      "54         34.0  Driver only      Front  ...        5.0   184.0      103.0   \n",
      "80         30.0          NaN        4WD  ...        5.0   175.0       97.0   \n",
      "0          31.0          NaN      Front  ...        5.0   177.0      102.0   \n",
      "12         34.0  Driver only      Front  ...        5.0   184.0      103.0   \n",
      "\n",
      "    Width  Turn.circle Rear.seat.room  Luggage.room  Weight   Origin  \\\n",
      "28   66.0         36.0           26.5          11.0  2295.0      USA   \n",
      "63   66.0         33.0           26.0           NaN     NaN  non-USA   \n",
      "61   67.0         36.0           26.0          11.0  2295.0  non-USA   \n",
      "43   63.0         35.0           26.0          11.0  2345.0  non-USA   \n",
      "22   66.0         32.0            NaN          11.0  2270.0      USA   \n",
      "53   66.0         36.0           26.5          13.0  2440.0  non-USA   \n",
      "54   69.0         40.0           29.5          14.0  2970.0  non-USA   \n",
      "80   65.0         35.0           27.5          15.0  2490.0  non-USA   \n",
      "0    68.0         37.0           26.5           NaN  2705.0  non-USA   \n",
      "12   68.0         39.0           26.0           NaN  2785.0      USA   \n",
      "\n",
      "                 Make  \n",
      "28       Eagle Summit  \n",
      "63      Nissan Sentra  \n",
      "61  Mitsubishi Mirage  \n",
      "43      Hyundai Excel  \n",
      "22         Dodge Colt  \n",
      "53      Mazda Protege  \n",
      "54          Mazda 626  \n",
      "80      Subaru Loyale  \n",
      "0       Acura Integra  \n",
      "12  Chevrolet Corsica  \n",
      "\n",
      "[10 rows x 27 columns]\n"
     ]
    }
   ],
   "source": [
    "df = df.sort_values(by = \"MPG.city\", ascending=False)\n",
    "df = df.head(10)\n",
    "print(df)"
   ]
  },
  {
   "cell_type": "code",
   "execution_count": 2,
   "metadata": {},
   "outputs": [
    {
     "name": "stdout",
     "output_type": "stream",
     "text": [
      "   Manufacturer    Model     Type  Min.Price  Price  Max.Price  MPG.city  \\\n",
      "0         Acura  Integra    Small       12.9   15.9       18.8      25.0   \n",
      "1           NaN   Legend  Midsize       29.2   33.9       38.7      18.0   \n",
      "2          Audi       90  Compact       25.9   29.1       32.3      20.0   \n",
      "8         Buick  Riviera  Midsize       26.3   26.3       26.3      19.0   \n",
      "10     Cadillac  Seville  Midsize       37.5   40.1       42.7      16.0   \n",
      "\n",
      "    MPG.highway             AirBags DriveTrain  ... Passengers  Length  \\\n",
      "0          31.0                 NaN      Front  ...        5.0   177.0   \n",
      "1          25.0  Driver & Passenger      Front  ...        5.0   195.0   \n",
      "2          26.0         Driver only      Front  ...        5.0   180.0   \n",
      "8          27.0         Driver only      Front  ...        5.0   198.0   \n",
      "10         25.0  Driver & Passenger      Front  ...        5.0   204.0   \n",
      "\n",
      "    Wheelbase  Width  Turn.circle Rear.seat.room  Luggage.room  Weight  \\\n",
      "0       102.0   68.0         37.0           26.5           NaN  2705.0   \n",
      "1       115.0   71.0         38.0           30.0          15.0  3560.0   \n",
      "2       102.0   67.0         37.0           28.0          14.0  3375.0   \n",
      "8       108.0    NaN         41.0           26.5          14.0  3495.0   \n",
      "10      111.0   74.0         44.0           31.0           NaN  3935.0   \n",
      "\n",
      "     Origin              Make  \n",
      "0   non-USA     Acura Integra  \n",
      "1   non-USA      Acura Legend  \n",
      "2   non-USA           Audi 90  \n",
      "8       USA     Buick Riviera  \n",
      "10      USA  Cadillac Seville  \n",
      "\n",
      "[5 rows x 27 columns]\n"
     ]
    }
   ],
   "source": [
    "df = df[df[\"Passengers\"]==5]\n",
    "print(df.head())"
   ]
  },
  {
   "cell_type": "code",
   "execution_count": 1,
   "metadata": {},
   "outputs": [],
   "source": [
    "import pandas as pd\n",
    "\n",
    "df = pd.read_csv(\"Arquivos/Cars93_miss.csv\", sep = \",\")"
   ]
  }
 ],
 "metadata": {
  "kernelspec": {
   "display_name": "Python 3",
   "language": "python",
   "name": "python3"
  },
  "language_info": {
   "codemirror_mode": {
    "name": "ipython",
    "version": 3
   },
   "file_extension": ".py",
   "mimetype": "text/x-python",
   "name": "python",
   "nbconvert_exporter": "python",
   "pygments_lexer": "ipython3",
   "version": "3.12.0"
  }
 },
 "nbformat": 4,
 "nbformat_minor": 2
}
