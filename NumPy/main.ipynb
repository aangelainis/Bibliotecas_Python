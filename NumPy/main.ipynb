{
 "cells": [
  {
   "cell_type": "code",
   "execution_count": 28,
   "metadata": {},
   "outputs": [],
   "source": [
    "import numpy as np"
   ]
  },
  {
   "cell_type": "code",
   "execution_count": 29,
   "metadata": {},
   "outputs": [
    {
     "name": "stdout",
     "output_type": "stream",
     "text": [
      "<class 'list'>\n"
     ]
    }
   ],
   "source": [
    "lista =  [1, 2, 3] \n",
    "print(type(lista))"
   ]
  },
  {
   "cell_type": "code",
   "execution_count": 30,
   "metadata": {},
   "outputs": [
    {
     "name": "stdout",
     "output_type": "stream",
     "text": [
      "<class 'numpy.ndarray'>\n"
     ]
    }
   ],
   "source": [
    "array = np.array(lista)\n",
    "print(type(array))"
   ]
  },
  {
   "cell_type": "markdown",
   "metadata": {},
   "source": [
    "---\n",
    "<h1 style=\"text-align:center;\"> <strong>Dimensões e Tamanhos<strong> </h1>"
   ]
  },
  {
   "cell_type": "code",
   "execution_count": 31,
   "metadata": {},
   "outputs": [
    {
     "name": "stdout",
     "output_type": "stream",
     "text": [
      "len(lista) = 3\n"
     ]
    }
   ],
   "source": [
    "print(f'len(lista) = {len(lista)}') # 3"
   ]
  },
  {
   "cell_type": "code",
   "execution_count": 32,
   "metadata": {},
   "outputs": [
    {
     "name": "stdout",
     "output_type": "stream",
     "text": [
      "len(lista2) = 2\n"
     ]
    }
   ],
   "source": [
    "lista2 = [[1, 2, 3],[4, 5, 6]]\n",
    "print(f'len(lista2) = {len(lista2)}')"
   ]
  },
  {
   "cell_type": "code",
   "execution_count": 33,
   "metadata": {},
   "outputs": [
    {
     "name": "stdout",
     "output_type": "stream",
     "text": [
      "len(lista3) = 1\n"
     ]
    }
   ],
   "source": [
    "lista3 = [[[1, 2, 3],[4, 5, 6]]]\n",
    "print(f'len(lista3) = {len(lista3)}')"
   ]
  },
  {
   "cell_type": "code",
   "execution_count": 34,
   "metadata": {},
   "outputs": [
    {
     "name": "stdout",
     "output_type": "stream",
     "text": [
      "array.shape = (3,)\n"
     ]
    }
   ],
   "source": [
    "print(f'array.shape = {array.shape}')"
   ]
  },
  {
   "cell_type": "code",
   "execution_count": 35,
   "metadata": {},
   "outputs": [
    {
     "name": "stdout",
     "output_type": "stream",
     "text": [
      "array2.shape = (2, 3)\n"
     ]
    }
   ],
   "source": [
    "array2 = np.array(lista2)\n",
    "print(f'array2.shape = {array2.shape}')"
   ]
  },
  {
   "cell_type": "code",
   "execution_count": 36,
   "metadata": {},
   "outputs": [
    {
     "name": "stdout",
     "output_type": "stream",
     "text": [
      "array3.shape = (1, 2, 3)\n"
     ]
    }
   ],
   "source": [
    "array3 = np.array(lista3)\n",
    "print(f'array3.shape = {array3.shape}')"
   ]
  },
  {
   "cell_type": "code",
   "execution_count": 37,
   "metadata": {},
   "outputs": [
    {
     "name": "stdout",
     "output_type": "stream",
     "text": [
      "array2.ndim = 2\n"
     ]
    }
   ],
   "source": [
    "print(f'array2.ndim = {array2.ndim}')"
   ]
  },
  {
   "cell_type": "markdown",
   "metadata": {},
   "source": [
    "---\n",
    "<h1 style=\"text-align:center;\"> <strong>Criando Arrays com Range<strong> </h1>"
   ]
  },
  {
   "cell_type": "code",
   "execution_count": 38,
   "metadata": {},
   "outputs": [
    {
     "name": "stdout",
     "output_type": "stream",
     "text": [
      "np.arange(0, 111, 10) = [  0  10  20  30  40  50  60  70  80  90 100 110]\n"
     ]
    }
   ],
   "source": [
    "array = np.arange(0, 111, 10)\n",
    "print(f'np.arange(0, 111, 10) = {array}')"
   ]
  },
  {
   "cell_type": "code",
   "execution_count": 39,
   "metadata": {},
   "outputs": [
    {
     "name": "stdout",
     "output_type": "stream",
     "text": [
      "[[ 1  2  3  4  5  6]\n",
      " [ 7  8  9 10 11 12]\n",
      " [13 14 15 16 17 18]\n",
      " [19 20 21 22 23 24]\n",
      " [25 26 27 28 29 30]\n",
      " [31 32 33 34 35 36]]\n"
     ]
    }
   ],
   "source": [
    "array = np.arange(1, 37)\n",
    "array = np.reshape(array, (6, 6))\n",
    "print(array)"
   ]
  },
  {
   "cell_type": "code",
   "execution_count": 40,
   "metadata": {},
   "outputs": [
    {
     "name": "stdout",
     "output_type": "stream",
     "text": [
      "[[0. 0. 0. 0. 0.]\n",
      " [0. 0. 0. 0. 0.]]\n"
     ]
    }
   ],
   "source": [
    "print(np.zeros((2,5)))"
   ]
  },
  {
   "cell_type": "code",
   "execution_count": 41,
   "metadata": {},
   "outputs": [
    {
     "name": "stdout",
     "output_type": "stream",
     "text": [
      "[[ True  True  True  True  True  True  True  True  True  True]\n",
      " [ True  True  True  True  True  True  True  True  True  True]\n",
      " [ True  True  True  True  True  True  True  True  True  True]\n",
      " [ True  True  True  True  True  True  True  True  True  True]\n",
      " [ True  True  True  True  True  True  True  True  True  True]\n",
      " [ True  True  True  True  True  True  True  True  True  True]\n",
      " [ True  True  True  True  True  True  True  True  True  True]\n",
      " [ True  True  True  True  True  True  True  True  True  True]\n",
      " [ True  True  True  True  True  True  True  True  True  True]\n",
      " [ True  True  True  True  True  True  True  True  True  True]]\n"
     ]
    }
   ],
   "source": [
    "# Desafio 1\n",
    "\n",
    "print(np.full((10, 10), True))"
   ]
  },
  {
   "cell_type": "code",
   "execution_count": null,
   "metadata": {},
   "outputs": [
    {
     "name": "stdout",
     "output_type": "stream",
     "text": [
      "[ 0.     1.375  2.75   4.125  5.5    6.875  8.25   9.625 11.   ]\n"
     ]
    }
   ],
   "source": [
    "print(np.linspace(0, 11, 9)) # Início, fim, quantidade"
   ]
  },
  {
   "cell_type": "markdown",
   "metadata": {},
   "source": [
    "---\n",
    "<h1 style=\"text-align:center;\"> <strong>Criando Arrays com Random<strong> </h1>"
   ]
  },
  {
   "cell_type": "code",
   "execution_count": 47,
   "metadata": {},
   "outputs": [
    {
     "name": "stdout",
     "output_type": "stream",
     "text": [
      "[[0.67691814 0.96184011]\n",
      " [0.32618542 0.09475119]]\n"
     ]
    }
   ],
   "source": [
    "print(np.random.rand(2, 2))"
   ]
  },
  {
   "cell_type": "code",
   "execution_count": 50,
   "metadata": {},
   "outputs": [
    {
     "name": "stdout",
     "output_type": "stream",
     "text": [
      "[6 8 9 4 1]\n",
      "[[2 2]\n",
      " [3 2]]\n",
      "[[ 9  8  0 23 11]\n",
      " [35 33 36 24 21]]\n"
     ]
    }
   ],
   "source": [
    "print(np.random.randint(0, 10, 5))\n",
    "print(np.random.randint(0, 10, (2, 2)))\n",
    "print(np.random.randint(0, 50, 10).reshape(2, 5))"
   ]
  },
  {
   "cell_type": "markdown",
   "metadata": {},
   "source": [
    "---\n",
    "<h1 style=\"text-align:center;\"> <strong>Extraindo valores das Arrays<strong> </h1>"
   ]
  },
  {
   "cell_type": "code",
   "execution_count": null,
   "metadata": {},
   "outputs": [
    {
     "name": "stdout",
     "output_type": "stream",
     "text": [
      "Valor máximo:  36\n",
      "Valor máximo:  1\n"
     ]
    }
   ],
   "source": [
    "print('Valor máximo: ', array.max())\n",
    "print('Valor mínimo: ', array.min())"
   ]
  },
  {
   "cell_type": "code",
   "execution_count": 54,
   "metadata": {},
   "outputs": [
    {
     "name": "stdout",
     "output_type": "stream",
     "text": [
      "Index de maior valor:  35\n",
      "Index de menor valor:  0\n"
     ]
    }
   ],
   "source": [
    "print('Index de maior valor: ', array.argmax())\n",
    "print('Index de menor valor: ', array.argmin())"
   ]
  },
  {
   "cell_type": "code",
   "execution_count": 57,
   "metadata": {},
   "outputs": [
    {
     "name": "stdout",
     "output_type": "stream",
     "text": [
      "Média de valores:  18.5\n",
      "Desvio de pdrão de valores: 10.39\n",
      "Variância de valores: 107.92\n",
      "Mediana de valores:  18.5\n"
     ]
    }
   ],
   "source": [
    "print('Média de valores: ', array.mean())\n",
    "print('Desvio de pdrão de valores: {:.2f}'.format(array.std()))\n",
    "print('Variância de valores: {:.2f}'.format(array.var()))\n",
    "print('Mediana de valores: ', np.median(array))\n"
   ]
  },
  {
   "cell_type": "markdown",
   "metadata": {},
   "source": [
    "---\n",
    "<h1 style=\"text-align:center;\"> <strong>Extraindo valores dos Índices<strong> </h1>"
   ]
  },
  {
   "cell_type": "code",
   "execution_count": 67,
   "metadata": {},
   "outputs": [
    {
     "name": "stdout",
     "output_type": "stream",
     "text": [
      "6\n",
      "6\n"
     ]
    }
   ],
   "source": [
    "lista = [[1, 2, 3],\n",
    "         [4, 5, 6]]\n",
    "print(lista[1][2])\n",
    "\n",
    "array = np.array([[1, 2, 3], [4, 5, 6]])\n",
    "print(array[1, 2])"
   ]
  },
  {
   "cell_type": "code",
   "execution_count": 69,
   "metadata": {},
   "outputs": [
    {
     "name": "stdout",
     "output_type": "stream",
     "text": [
      "[ 4  5  6  7  8  9 10]\n"
     ]
    }
   ],
   "source": [
    "array = np.array(range(0, 11))\n",
    "print(array[array>3])"
   ]
  },
  {
   "cell_type": "code",
   "execution_count": 82,
   "metadata": {},
   "outputs": [
    {
     "name": "stdout",
     "output_type": "stream",
     "text": [
      "Tabela original: \n",
      " [[1 2 3]\n",
      " [4 5 6]\n",
      " [7 8 9]]\n",
      "\n",
      "Tabela substituta: \n",
      " [[0 2 0]\n",
      " [4 0 6]\n",
      " [0 8 0]]\n"
     ]
    }
   ],
   "source": [
    "# Desafio 2\n",
    "array = np.arange(1, 10).reshape((3, 3))\n",
    "print(f'Tabela original: \\n {array}')\n",
    "\n",
    "array[array % 2 != 0] = 0\n",
    "print(f'\\nTabela substituta: \\n {array}')\n",
    "\n"
   ]
  },
  {
   "cell_type": "markdown",
   "metadata": {},
   "source": [
    "---\n",
    "<h1 style=\"text-align:center;\"> <strong>Cálculos matemáticos<strong> </h1>"
   ]
  },
  {
   "cell_type": "code",
   "execution_count": 94,
   "metadata": {},
   "outputs": [
    {
     "name": "stdout",
     "output_type": "stream",
     "text": [
      "[26 20 35 18 11]\n",
      "[14  0 46 16  0]\n"
     ]
    }
   ],
   "source": [
    "a = np.random.randint(0, 50, 5)\n",
    "b = np.random.randint(0, 50, 5)\n",
    "\n",
    "print(a)\n",
    "print(b)"
   ]
  },
  {
   "cell_type": "code",
   "execution_count": 95,
   "metadata": {},
   "outputs": [
    {
     "name": "stdout",
     "output_type": "stream",
     "text": [
      "[36 30 45 28 21]\n",
      "110\n"
     ]
    }
   ],
   "source": [
    "print(a+10) # Soma com todos os elementos do array\n",
    "print(np.sum(a)) # Retorna a soma de todos os valores"
   ]
  },
  {
   "cell_type": "code",
   "execution_count": 96,
   "metadata": {},
   "outputs": [
    {
     "name": "stdout",
     "output_type": "stream",
     "text": [
      "[40 20 81 34 11]\n",
      "[40 20 81 34 11]\n"
     ]
    }
   ],
   "source": [
    "# Retorna lista com a soma entre os dois\n",
    "print(a + b)\n",
    "print(np.add(a,b))"
   ]
  },
  {
   "cell_type": "code",
   "execution_count": 97,
   "metadata": {},
   "outputs": [
    {
     "name": "stdout",
     "output_type": "stream",
     "text": [
      "[ 12  20 -11   2  11]\n",
      "[ 12  20 -11   2  11]\n"
     ]
    }
   ],
   "source": [
    "# Retorna lista com a subtração entre os dois\n",
    "print(a - b)\n",
    "print(np.subtract(a,b))"
   ]
  },
  {
   "cell_type": "code",
   "execution_count": 100,
   "metadata": {},
   "outputs": [
    {
     "name": "stdout",
     "output_type": "stream",
     "text": [
      "[ 364    0 1610  288    0]\n",
      "[ 364    0 1610  288    0]\n"
     ]
    }
   ],
   "source": [
    "print(a*b)\n",
    "print(np.multiply(a, b))"
   ]
  },
  {
   "cell_type": "code",
   "execution_count": null,
   "metadata": {},
   "outputs": [
    {
     "name": "stdout",
     "output_type": "stream",
     "text": [
      "2262\n",
      "2262\n"
     ]
    }
   ],
   "source": [
    "# Produto interno -> SOP\n",
    "\n",
    "print(a @ b)\n",
    "print(a.dot(b))\n"
   ]
  },
  {
   "cell_type": "code",
   "execution_count": 121,
   "metadata": {},
   "outputs": [
    {
     "name": "stdout",
     "output_type": "stream",
     "text": [
      "Crie um array de 2 linhas e 3 colunas:\n",
      "[[0 2 1]\n",
      " [5 7 8]]\n",
      "Faça um reshape de 3 linhas e 2 colunas:\n",
      "[[0 2]\n",
      " [1 5]\n",
      " [7 8]]\n",
      "Some a primeira linha por 5:\n",
      "[[5 7]\n",
      " [1 5]\n",
      " [7 8]]\n",
      "Multiplque a segunda linha por 3:\n",
      "[[ 5  7]\n",
      " [ 3 15]\n",
      " [ 7  8]]\n",
      "Divida a segunda coluna por 2:\n",
      "[[5 3]\n",
      " [3 7]\n",
      " [7 4]]\n"
     ]
    }
   ],
   "source": [
    "# Desafio 3\n",
    "\n",
    "array = np.random.randint(0, 10, (2, 3)) # Crie um array de 2 linhas e 3 colunas\n",
    "print(f'Crie um array de 2 linhas e 3 colunas:\\n{array}')\n",
    "\n",
    "array = array.reshape(3, 2) # Faça um reshape de 3 linhas e 2 colunas\n",
    "print(f'Faça um reshape de 3 linhas e 2 colunas:\\n{array}')\n",
    "\n",
    "array[0, :] = array[0,:] + 5 # Some a primeira linha por 5\n",
    "print(f'Some a primeira linha por 5:\\n{array}')\n",
    "\n",
    "array[1, :] = array[1,:] * 3 # Multiplque a segunda linha por 3\n",
    "print(f'Multiplque a segunda linha por 3:\\n{array}')\n",
    "\n",
    "array[:, 1] = array[:,1] / 2 # Divida a segunda coluna por 2\n",
    "print(f'Divida a segunda coluna por 2:\\n{array}')"
   ]
  }
 ],
 "metadata": {
  "kernelspec": {
   "display_name": "Python 3",
   "language": "python",
   "name": "python3"
  },
  "language_info": {
   "codemirror_mode": {
    "name": "ipython",
    "version": 3
   },
   "file_extension": ".py",
   "mimetype": "text/x-python",
   "name": "python",
   "nbconvert_exporter": "python",
   "pygments_lexer": "ipython3",
   "version": "3.11.4"
  }
 },
 "nbformat": 4,
 "nbformat_minor": 2
}
