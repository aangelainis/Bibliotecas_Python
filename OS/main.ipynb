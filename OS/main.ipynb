{
 "cells": [
  {
   "cell_type": "code",
   "execution_count": 1,
   "metadata": {},
   "outputs": [],
   "source": [
    "import os"
   ]
  },
  {
   "cell_type": "markdown",
   "metadata": {},
   "source": [
    "---\n",
    "<h1 style=\"text-align:center;\"> <strong>Obtendo informações do Caminho<strong> </h1>"
   ]
  },
  {
   "cell_type": "code",
   "execution_count": 11,
   "metadata": {},
   "outputs": [
    {
     "name": "stdout",
     "output_type": "stream",
     "text": [
      "s:\\COM\\Human_Resources\\01.Engineering_Tech_School\\02.Internal\\5 - Aprendizes\\1 - Cibersistemas\\1 - Cibersitemas 2024\\01. Alunos\\2. Angelina\\TI\\Python\\Aulas - Dom\\Bibliotecas\\OS\n"
     ]
    }
   ],
   "source": [
    "# Caminho absoluto / Serve para pegar o caminho do arquivo independentemente se movê-lo\n",
    "print(os.path.abspath(''))"
   ]
  },
  {
   "cell_type": "code",
   "execution_count": null,
   "metadata": {},
   "outputs": [
    {
     "name": "stdout",
     "output_type": "stream",
     "text": [
      "['Arquivos', 'main.ipynb']\n"
     ]
    }
   ],
   "source": [
    "# Lista de todos os arquivos dentro de um diretório\n",
    "print(os.listdir('../NumPy'))"
   ]
  },
  {
   "cell_type": "markdown",
   "metadata": {},
   "source": [
    "---\n",
    "<h1 style=\"text-align:center;\"> <strong>Manipulando Arquivos<strong> </h1>"
   ]
  },
  {
   "cell_type": "code",
   "execution_count": null,
   "metadata": {},
   "outputs": [],
   "source": [
    "# Cria a diretório (pasta)\n",
    "os.mkdir('../Imagens')"
   ]
  },
  {
   "cell_type": "code",
   "execution_count": 18,
   "metadata": {},
   "outputs": [
    {
     "name": "stdout",
     "output_type": "stream",
     "text": [
      "True\n",
      "True\n"
     ]
    }
   ],
   "source": [
    "# Verifica se existe o diretório com um certo nome\n",
    "print(os.path.isdir('../Imagens'))\n",
    "\n",
    "#Verifica a existência de um arquivo com um certo nome\n",
    "print(os.path.isfile('../Numpy/main.ipynb'))"
   ]
  },
  {
   "cell_type": "code",
   "execution_count": 29,
   "metadata": {},
   "outputs": [
    {
     "name": "stdout",
     "output_type": "stream",
     "text": [
      "../Imagens\\minha_imagem.png\n"
     ]
    }
   ],
   "source": [
    "# Criando um novo caminho para transportar a imagem da pasta 'Bibliotecas' para 'Imagens'\n",
    "# Juntando strings\n",
    "novo_caminho = os.path.join(\n",
    "    '../Imagens', 'minha_imagem.png'\n",
    ")\n",
    "\n",
    "print(novo_caminho)"
   ]
  },
  {
   "cell_type": "code",
   "execution_count": null,
   "metadata": {},
   "outputs": [],
   "source": [
    "# Renomeando um arquivo\n",
    "\n",
    "os.rename('../imagem.png', '../minha_imagem.png')"
   ]
  },
  {
   "cell_type": "code",
   "execution_count": 30,
   "metadata": {},
   "outputs": [],
   "source": [
    "os.rename(\n",
    "    '../minha_imagem.png',\n",
    "    novo_caminho\n",
    ")"
   ]
  }
 ],
 "metadata": {
  "kernelspec": {
   "display_name": "Python 3",
   "language": "python",
   "name": "python3"
  },
  "language_info": {
   "codemirror_mode": {
    "name": "ipython",
    "version": 3
   },
   "file_extension": ".py",
   "mimetype": "text/x-python",
   "name": "python",
   "nbconvert_exporter": "python",
   "pygments_lexer": "ipython3",
   "version": "3.11.4"
  }
 },
 "nbformat": 4,
 "nbformat_minor": 2
}
