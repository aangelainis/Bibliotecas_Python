{
 "cells": [
  {
   "cell_type": "markdown",
   "metadata": {},
   "source": [
    "---\n",
    "<h1 style=\"text-align:center;\"> <strong>Dicionário do Python<strong> </h1>"
   ]
  },
  {
   "cell_type": "code",
   "execution_count": 2,
   "metadata": {},
   "outputs": [
    {
     "name": "stdout",
     "output_type": "stream",
     "text": [
      "Angelina\n",
      "{'Tel1': 41, 'Tel2': 44}\n",
      "41\n"
     ]
    }
   ],
   "source": [
    "dic = {\n",
    "    'Nome': 'Angelina',\n",
    "    'Idade': 18,\n",
    "    'Telefone': {\n",
    "        'Tel1': 41,\n",
    "        'Tel2': 44\n",
    "    }\n",
    "\n",
    "}\n",
    "\n",
    "print(dic['Nome'])\n",
    "print(dic['Telefone'])\n",
    "print(dic['Telefone']['Tel1'])"
   ]
  },
  {
   "cell_type": "markdown",
   "metadata": {},
   "source": [
    "---\n",
    "<h1 style=\"text-align:center;\"> <strong>Introdução ao Json<strong> </h1>"
   ]
  },
  {
   "cell_type": "code",
   "execution_count": 3,
   "metadata": {},
   "outputs": [],
   "source": [
    "import json"
   ]
  },
  {
   "cell_type": "code",
   "execution_count": 8,
   "metadata": {},
   "outputs": [
    {
     "name": "stdout",
     "output_type": "stream",
     "text": [
      "Formato Json: <class 'str'>\n",
      "Formato Dicionário: <class 'dict'>\n"
     ]
    }
   ],
   "source": [
    "y = json.dumps(dic)\n",
    "print(f'Formato Json: {type(y)}')\n",
    "\n",
    "y = json.loads(y)\n",
    "print(f'Formato Dicionário: {type(y)}')"
   ]
  }
 ],
 "metadata": {
  "kernelspec": {
   "display_name": "Python 3",
   "language": "python",
   "name": "python3"
  },
  "language_info": {
   "codemirror_mode": {
    "name": "ipython",
    "version": 3
   },
   "file_extension": ".py",
   "mimetype": "text/x-python",
   "name": "python",
   "nbconvert_exporter": "python",
   "pygments_lexer": "ipython3",
   "version": "3.11.4"
  }
 },
 "nbformat": 4,
 "nbformat_minor": 2
}
